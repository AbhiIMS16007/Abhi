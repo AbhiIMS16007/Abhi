{
 "cells": [
  {
   "cell_type": "code",
   "execution_count": 1,
   "id": "51026d5c",
   "metadata": {},
   "outputs": [
    {
     "name": "stdout",
     "output_type": "stream",
     "text": [
      "Collecting imagehash\n",
      "  Downloading ImageHash-4.2.1.tar.gz (812 kB)\n",
      "\u001b[K     |████████████████████████████████| 812 kB 2.6 MB/s eta 0:00:01\n",
      "\u001b[?25hRequirement already satisfied: six in /home/abhinandan/anaconda3/lib/python3.9/site-packages (from imagehash) (1.16.0)\n",
      "Requirement already satisfied: numpy in /home/abhinandan/anaconda3/lib/python3.9/site-packages (from imagehash) (1.20.3)\n",
      "Requirement already satisfied: scipy in /home/abhinandan/anaconda3/lib/python3.9/site-packages (from imagehash) (1.7.1)\n",
      "Requirement already satisfied: pillow in /home/abhinandan/anaconda3/lib/python3.9/site-packages (from imagehash) (8.4.0)\n",
      "Requirement already satisfied: PyWavelets in /home/abhinandan/anaconda3/lib/python3.9/site-packages (from imagehash) (1.1.1)\n",
      "Building wheels for collected packages: imagehash\n",
      "  Building wheel for imagehash (setup.py) ... \u001b[?25ldone\n",
      "\u001b[?25h  Created wheel for imagehash: filename=ImageHash-4.2.1-py2.py3-none-any.whl size=295207 sha256=70a6e9027303ebc35d2a9a3dfbfec7bee1ebdf3cdf9808885b2fe1d078a59109\n",
      "  Stored in directory: /home/abhinandan/.cache/pip/wheels/51/f9/a5/740af2fdb0ad1edf79aabdc41531be0b6f0b2e2be684c388cf\n",
      "Successfully built imagehash\n",
      "Installing collected packages: imagehash\n",
      "Successfully installed imagehash-4.2.1\n"
     ]
    }
   ],
   "source": [
    "!pip install imagehash"
   ]
  },
  {
   "cell_type": "code",
   "execution_count": 3,
   "id": "dba734a7",
   "metadata": {},
   "outputs": [],
   "source": [
    "from PIL import Image"
   ]
  },
  {
   "cell_type": "code",
   "execution_count": 5,
   "id": "b31ef8c4",
   "metadata": {},
   "outputs": [],
   "source": [
    "import imagehash"
   ]
  },
  {
   "cell_type": "code",
   "execution_count": 6,
   "id": "4fc6bce7",
   "metadata": {},
   "outputs": [],
   "source": [
    "hash = imagehash.average_hash(Image.open('test1.jpg'))"
   ]
  },
  {
   "cell_type": "code",
   "execution_count": 7,
   "id": "471fd58b",
   "metadata": {},
   "outputs": [
    {
     "name": "stdout",
     "output_type": "stream",
     "text": [
      "00383e3ee7ff0000\n"
     ]
    }
   ],
   "source": [
    "print(hash)"
   ]
  },
  {
   "cell_type": "code",
   "execution_count": 13,
   "id": "fed677f8",
   "metadata": {},
   "outputs": [],
   "source": [
    "otherhash = imagehash.average_hash(Image.open('test3.jpeg'))"
   ]
  },
  {
   "cell_type": "code",
   "execution_count": 14,
   "id": "c4c71bb0",
   "metadata": {},
   "outputs": [
    {
     "name": "stdout",
     "output_type": "stream",
     "text": [
      "ffffff1900000000\n"
     ]
    }
   ],
   "source": [
    "print(otherhash)"
   ]
  },
  {
   "cell_type": "code",
   "execution_count": 15,
   "id": "399fb34c",
   "metadata": {},
   "outputs": [
    {
     "name": "stdout",
     "output_type": "stream",
     "text": [
      "False\n"
     ]
    }
   ],
   "source": [
    "print(hash == otherhash)"
   ]
  },
  {
   "cell_type": "code",
   "execution_count": 16,
   "id": "44dfc528",
   "metadata": {},
   "outputs": [
    {
     "name": "stdout",
     "output_type": "stream",
     "text": [
      "34\n"
     ]
    }
   ],
   "source": [
    "print(hash - otherhash)"
   ]
  },
  {
   "cell_type": "code",
   "execution_count": null,
   "id": "0302ba12",
   "metadata": {},
   "outputs": [],
   "source": []
  },
  {
   "cell_type": "code",
   "execution_count": null,
   "id": "9c92a547",
   "metadata": {},
   "outputs": [],
   "source": []
  },
  {
   "cell_type": "code",
   "execution_count": null,
   "id": "d0eb7684",
   "metadata": {},
   "outputs": [],
   "source": []
  },
  {
   "cell_type": "code",
   "execution_count": null,
   "id": "a0d870fa",
   "metadata": {},
   "outputs": [],
   "source": [
    "#To finde the length of longest subsequence present in both strings\n",
    "\n",
    "\n"
   ]
  },
  {
   "cell_type": "code",
   "execution_count": 18,
   "id": "ee619941",
   "metadata": {},
   "outputs": [
    {
     "name": "stdout",
     "output_type": "stream",
     "text": [
      "Length of LCS is  4\n"
     ]
    }
   ],
   "source": [
    "def lcs(X, Y, m, n):\n",
    "  \n",
    "    if m == 0 or n == 0:\n",
    "       return 0;\n",
    "    elif X[m-1] == Y[n-1]:\n",
    "       return 1 + lcs(X, Y, m-1, n-1);\n",
    "    else:\n",
    "       return max(lcs(X, Y, m, n-1), lcs(X, Y, m-1, n));\n",
    "  \n",
    "  \n",
    "X = \"AGGTAB\"\n",
    "Y = \"GXTXAYB\"\n",
    "print (\"Length of LCS is \", lcs(X, Y, len(X), len(Y)))"
   ]
  },
  {
   "cell_type": "code",
   "execution_count": null,
   "id": "af312474",
   "metadata": {},
   "outputs": [],
   "source": []
  }
 ],
 "metadata": {
  "kernelspec": {
   "display_name": "Python 3 (ipykernel)",
   "language": "python",
   "name": "python3"
  },
  "language_info": {
   "codemirror_mode": {
    "name": "ipython",
    "version": 3
   },
   "file_extension": ".py",
   "mimetype": "text/x-python",
   "name": "python",
   "nbconvert_exporter": "python",
   "pygments_lexer": "ipython3",
   "version": "3.9.7"
  }
 },
 "nbformat": 4,
 "nbformat_minor": 5
}
